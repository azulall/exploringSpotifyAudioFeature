{
  "nbformat": 4,
  "nbformat_minor": 0,
  "metadata": {
    "colab": {
      "provenance": []
    },
    "kernelspec": {
      "name": "python3",
      "display_name": "Python 3"
    },
    "language_info": {
      "name": "python"
    }
  },
  "cells": [
    {
      "cell_type": "markdown",
      "source": [
        "#Spotify Danceability vs Valence Mini Analysis\n",
        "\n",
        "This project is a beginner-friendly exploratory data analysis of Spotify audio features.  \n",
        "We focus on the relationship between **danceability**, **valence (happiness)**, and **energy**.\n",
        "\n",
        "The dataset used is from TidyTuesday and contains audio features of popular songs.\n",
        "\n",
        "Tools used:\n",
        "- Python\n",
        "- Pandas\n",
        "- Matplotlib\n",
        "- Google Colab\n"
      ],
      "metadata": {
        "id": "USmJenj5BxB4"
      }
    },
    {
      "cell_type": "code",
      "execution_count": null,
      "metadata": {
        "id": "8SSDLmedVuLf"
      },
      "outputs": [],
      "source": [
        "import pandas as pd\n",
        "url = \"https://raw.githubusercontent.com/rfordatascience/tidytuesday/main/data/2020/2020-01-21/spotify_songs.csv\"\n",
        "df = pd.read_csv(url)\n",
        "df.head()"
      ]
    },
    {
      "cell_type": "code",
      "source": [
        "display(df.shape)\n",
        "display(df.dtypes)\n",
        "display(df.describe())"
      ],
      "metadata": {
        "id": "KlmU1O7Ckiwp"
      },
      "execution_count": null,
      "outputs": []
    },
    {
      "cell_type": "markdown",
      "source": [
        "## Dataset Overview\n",
        "\n",
        "Before diving into analysis, we check the size, column types, and summary statistics of the dataset.\n"
      ],
      "metadata": {
        "id": "vR7FM67LF9TY"
      }
    },
    {
      "cell_type": "code",
      "source": [
        "df[\"energy\"].describe()"
      ],
      "metadata": {
        "id": "r10TB7tCor3y"
      },
      "execution_count": null,
      "outputs": []
    },
    {
      "cell_type": "code",
      "source": [
        "df[\"valence\"].describe()"
      ],
      "metadata": {
        "id": "x7USA4uz0FS7"
      },
      "execution_count": null,
      "outputs": []
    },
    {
      "cell_type": "code",
      "source": [
        "# Import matplotlib for plotting\n",
        "import matplotlib.pyplot as plt\n",
        "\n",
        "# Plotting the distribution of energy levels in songs\n",
        "plt.hist(df[\"energy\"].dropna(), bins=3, color=\"orchid\", edgecolor=\"black\")\n",
        "plt.title(\"Energy Distribution of Spotify Songs\")\n",
        "plt.xlabel(\"Energy Level (0-1)\")\n",
        "plt.ylabel(\"Number of Songs\")\n",
        "plt.show()"
      ],
      "metadata": {
        "id": "XRNXdIZApALu"
      },
      "execution_count": null,
      "outputs": []
    },
    {
      "cell_type": "code",
      "source": [
        "import matplotlib.pyplot as plt\n",
        "\n",
        "# Plotting the distribution of valence (happiness) levels\n",
        "plt.figure(figsize=(10, 6))\n",
        "plt.hist(df[\"valence\"].dropna(), bins=30,  color=\"teal\", edgecolor=\"black\")\n",
        "plt.title(\"Valence Distribution of Spotify Songs\")\n",
        "plt.xlabel(\"Valence (0 = Sad, 1 = Happy)\")\n",
        "plt.ylabel(\"Number of Songs\")\n",
        "plt.grid(True)\n",
        "plt.show()"
      ],
      "metadata": {
        "id": "ejg7MMwiuYiq"
      },
      "execution_count": null,
      "outputs": []
    },
    {
      "cell_type": "code",
      "source": [
        "# Displaying summary statistics for danceability and valence\n",
        "print(\"Danceability:\")\n",
        "print(df[\"danceability\"].describe())\n",
        "\n",
        "print(\"\\nValence:\")\n",
        "print(df[\"valence\"].describe())"
      ],
      "metadata": {
        "id": "Z5YUsaGV1mcn"
      },
      "execution_count": null,
      "outputs": []
    },
    {
      "cell_type": "code",
      "source": [
        "import matplotlib.pyplot as plt\n",
        "\n",
        "plt.figure(figsize=(10,6))\n",
        "plt.scatter(df[\"danceability\"], df[\"valence\"], color =\"pink\", alpha=0.5)\n",
        "plt.title(\"Danceability vs Valence\")\n",
        "plt.xlabel(\"Danceability (0 = Not Danceable, 1 = Very Danceable)\")\n",
        "plt.ylabel(\"Valence (0 = Sad, 1 = Happy)\")\n",
        "plt.grid(True)\n",
        "plt.show()"
      ],
      "metadata": {
        "id": "m5UBGfgG1_fx"
      },
      "execution_count": null,
      "outputs": []
    },
    {
      "cell_type": "markdown",
      "source": [
        "### Spotify Danceability vs Valence Analysis\n",
        "In this scatter plot:\n",
        "- X-axis shows the danceability of songs (how suitable they are for dancing)\n",
        "- Y-axis shows the valence of songs (how happy or positive they sound)\n",
        "- Color indicates the energy level of each song:\n",
        "  - Lighter/brighter colors represent high-energy songs  \n",
        "  - Darker/purple tones indicate low-energy songs  \n",
        "\n"
      ],
      "metadata": {
        "id": "oyj8G-H-600D"
      }
    },
    {
      "cell_type": "code",
      "source": [
        "plt.figure(figsize=(7,4))\n",
        "plt.scatter(df[\"danceability\"], df[\"valence\"], c = df[\"energy\"], cmap = \"magma\", alpha=0.5)\n",
        "plt.title(\"Danceabiliity vs Valence (Colored by Energy)\")\n",
        "plt.xlabel(\"Danceability (0 = Not Danceable, 1 = Very Danceable)\")\n",
        "plt.ylabel(\"Valence (0 = Sad, 1 = Happy)\")\n",
        "plt.colorbar(label=\"Energy\")\n",
        "plt.show()\n"
      ],
      "metadata": {
        "id": "vRzUwq2S0mfV"
      },
      "execution_count": null,
      "outputs": []
    },
    {
      "cell_type": "markdown",
      "source": [
        "##Project Summary\n",
        "In this mini project, we explored the relationship between danceability and valence(happiness) in songs.Using a spotify dataset, we vvisualized how these attributes vary and whether high danceabilitycorresponds to high valence.\n",
        "We also added energy as a third variable to enhance insight through color coding.\n",
        "\n",
        "### Key Insights:\n",
        "- Most songs have danceability between 0.4 and 0.8\n",
        "- High danceability doesn't always mean high happiness.\n",
        "- Some songs are danceable but low energy (e.g., chill music).\n",
        "\n",
        "This project was my first attempt at exploring data visually using pandas and matplotlib.\n"
      ],
      "metadata": {
        "id": "EwobTDsbBC5g"
      }
    }
  ]
}
